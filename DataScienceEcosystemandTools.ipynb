{
 "cells": [
  {
   "cell_type": "markdown",
   "id": "ecf180c7-d894-4447-a5bc-a9332c85631f",
   "metadata": {
    "tags": []
   },
   "source": [
    "# Data Science Tools and Ecosystem"
   ]
  },
  {
   "cell_type": "markdown",
   "id": "e75d9a0f-518c-4df6-8411-4f3e7f88bbf0",
   "metadata": {
    "tags": []
   },
   "source": [
    "> This notebook is used to demonstrate basic knowledge of Data Science and creating a Jupyter Notebook."
   ]
  },
  {
   "cell_type": "markdown",
   "id": "06ebb3b1-1a3b-4f82-ad57-84674e0a61bb",
   "metadata": {},
   "source": [
    "> Objectives:\n",
    "\n",
    "> * List popular languages\n",
    "> * List popular Data Science libraries\n",
    "> * List Data Science tools\n",
    "> * Perform addition and multiplication using Python\n",
    "> * Perform conversion using syntax"
   ]
  },
  {
   "cell_type": "markdown",
   "id": "a060c69c-dc6b-4880-b2ca-3f7dee9fc40d",
   "metadata": {},
   "source": [
    "> Some of the popular languages that Data Scientists use are:\n",
    ">>  1. R <br>\n",
    ">>  2. Python <br>\n",
    ">>  3. SQL"
   ]
  },
  {
   "cell_type": "markdown",
   "id": "1074a58d-caa6-4223-b33e-940ce155a0ff",
   "metadata": {
    "tags": []
   },
   "source": [
    ">Some of the popular libraries used by Data Scientists include:\n",
    ">>  * dplyr <br>\n",
    ">>  * ggplot <br>\n",
    ">>  * caret"
   ]
  },
  {
   "cell_type": "markdown",
   "id": "b48313d7-2cf9-4c62-945f-c98c353c6ef6",
   "metadata": {},
   "source": [
    "| Data Science Tools |\n",
    "|:--------:|\n",
    "|  RStudio   |\n",
    "|  ApacheSpark |\n",
    "|  GitHub  |"
   ]
  },
  {
   "cell_type": "markdown",
   "id": "c9e1b0f4-8530-4889-8816-22079e270228",
   "metadata": {},
   "source": [
    "### Below are a few examples of evaluating arithmetic expressions in Python:"
   ]
  },
  {
   "cell_type": "code",
   "execution_count": 10,
   "id": "eb942734-39d3-49fc-adb8-b09684b86577",
   "metadata": {
    "tags": []
   },
   "outputs": [
    {
     "data": {
      "text/plain": [
       "17"
      ]
     },
     "execution_count": 10,
     "metadata": {},
     "output_type": "execute_result"
    }
   ],
   "source": [
    "#This a simple arithmetic expression to mutiply then add integers.\n",
    "\n",
    "(3*4)+5"
   ]
  },
  {
   "cell_type": "code",
   "execution_count": null,
   "id": "f8c10817-a313-4218-87cb-0284391faa79",
   "metadata": {
    "tags": []
   },
   "outputs": [],
   "source": [
    "#This will convert 200 minutes to hours by diving by 60.\n",
    "\n",
    "min=int(input(\"200\"))\n",
    "h=min//60\n",
    "m=min%60\n",
    "print(\"Hours=\",h)\n",
    "print(\"Minutes=\",m)"
   ]
  },
  {
   "cell_type": "markdown",
   "id": "56e7a95a-2502-4574-876a-51a8c6786eaf",
   "metadata": {},
   "source": [
    "## Author\n",
    "\n",
    "> Adnan Matouq"
   ]
  }
 ],
 "metadata": {
  "kernelspec": {
   "display_name": "Python",
   "language": "python",
   "name": "conda-env-python-py"
  },
  "language_info": {
   "codemirror_mode": {
    "name": "ipython",
    "version": 3
   },
   "file_extension": ".py",
   "mimetype": "text/x-python",
   "name": "python",
   "nbconvert_exporter": "python",
   "pygments_lexer": "ipython3",
   "version": "3.7.12"
  }
 },
 "nbformat": 4,
 "nbformat_minor": 5
}
